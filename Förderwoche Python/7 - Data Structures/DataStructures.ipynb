{
 "cells": [
  {
   "cell_type": "markdown",
   "metadata": {},
   "source": [
    "<h1><center>Data Structures</center></h1>"
   ]
  },
  {
   "cell_type": "code",
   "execution_count": 15,
   "metadata": {},
   "outputs": [
    {
     "name": "stdout",
     "output_type": "stream",
     "text": [
      "<class 'list'>\n",
      "<class 'tuple'>\n",
      "<class 'set'>\n"
     ]
    }
   ],
   "source": [
    "list_ = [1, 2, 3, 4, 5]\n",
    "tuple_ = (4,2,1,3,5)\n",
    "set_ = {1, 2, 3, 4, 5}\n",
    "\n",
    "print(type(list_))\n",
    "print(type(tuple_))\n",
    "print(type(set_))"
   ]
  },
  {
   "cell_type": "markdown",
   "metadata": {},
   "source": [
    "<h2><center>Ausgabe von Listen</center></h2>"
   ]
  },
  {
   "cell_type": "code",
   "execution_count": 16,
   "metadata": {},
   "outputs": [
    {
     "name": "stdout",
     "output_type": "stream",
     "text": [
      "['Python', 'CSS', 'HTML', 'JS', 'C++']\n"
     ]
    }
   ],
   "source": [
    "list_ = [\"Python\", \"CSS\", \"HTML\", \"JS\", \"C++\"]\n",
    "print(list_)"
   ]
  },
  {
   "cell_type": "markdown",
   "metadata": {},
   "source": [
    "<h2><center>Index</center></h2>"
   ]
  },
  {
   "cell_type": "code",
   "execution_count": 17,
   "metadata": {},
   "outputs": [
    {
     "name": "stdout",
     "output_type": "stream",
     "text": [
      "a --> Erster Element der Liste\n",
      "b --> Zweites Element der Liste\n",
      "z --> Letztes Element der Liste\n"
     ]
    }
   ],
   "source": [
    "list_ = [\"a\", \"b\", \"c\", \"x\", \"y\", \"z\"]\n",
    "print(list_[0] + \" --> Erster Element der Liste\")\n",
    "print(list_[1] + \" --> Zweites Element der Liste\")\n",
    "print(list_[-1] + \" --> Letztes Element der Liste\")"
   ]
  },
  {
   "cell_type": "markdown",
   "metadata": {},
   "source": [
    "<h2><center>Loops</center></h2>"
   ]
  },
  {
   "cell_type": "code",
   "execution_count": 18,
   "metadata": {},
   "outputs": [
    {
     "name": "stdout",
     "output_type": "stream",
     "text": [
      "a\n",
      "b\n",
      "c\n"
     ]
    }
   ],
   "source": [
    "list_ = [\"a\", \"b\", \"c\"]\n",
    "for i in list_:\n",
    "    print(i)"
   ]
  },
  {
   "cell_type": "markdown",
   "metadata": {},
   "source": [
    "<h2><center>Hinzufügen</center></h2>"
   ]
  },
  {
   "cell_type": "code",
   "execution_count": 19,
   "metadata": {},
   "outputs": [
    {
     "name": "stdout",
     "output_type": "stream",
     "text": [
      "['a']\n"
     ]
    }
   ],
   "source": [
    "list_ = []\n",
    "list_.append(\"a\")\n",
    "print(list_)"
   ]
  },
  {
   "cell_type": "markdown",
   "metadata": {},
   "source": [
    "<h2><center>Entfernen</center></h2>"
   ]
  },
  {
   "cell_type": "code",
   "execution_count": 20,
   "metadata": {},
   "outputs": [
    {
     "name": "stdout",
     "output_type": "stream",
     "text": [
      "[1, 2]\n"
     ]
    }
   ],
   "source": [
    "list_ = [1,2,3]\n",
    "list_.pop(-1)\n",
    "print(list_)"
   ]
  },
  {
   "cell_type": "markdown",
   "metadata": {},
   "source": [
    "<h2><center>len()-Befehl</center></h2>"
   ]
  },
  {
   "cell_type": "code",
   "execution_count": 13,
   "metadata": {},
   "outputs": [
    {
     "name": "stdout",
     "output_type": "stream",
     "text": [
      "3\n"
     ]
    }
   ],
   "source": [
    "list_ = [1,2,3]\n",
    "print(len(list_))"
   ]
  }
 ],
 "metadata": {
  "interpreter": {
   "hash": "6cb38f4f7881f5f00ecddd36dcdd205b1cbc633f18fa96b04fff46bb8c205f99"
  },
  "kernelspec": {
   "display_name": "Python 3.9.7 64-bit ('dsEnv': conda)",
   "language": "python",
   "name": "python3"
  },
  "language_info": {
   "codemirror_mode": {
    "name": "ipython",
    "version": 3
   },
   "file_extension": ".py",
   "mimetype": "text/x-python",
   "name": "python",
   "nbconvert_exporter": "python",
   "pygments_lexer": "ipython3",
   "version": "3.9.7"
  },
  "orig_nbformat": 4
 },
 "nbformat": 4,
 "nbformat_minor": 2
}
