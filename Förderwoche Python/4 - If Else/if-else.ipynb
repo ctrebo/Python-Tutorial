{
 "cells": [
  {
   "cell_type": "markdown",
   "metadata": {},
   "source": [
    "<h1><center>If/Else/Elif</center></h1>"
   ]
  },
  {
   "cell_type": "markdown",
   "metadata": {},
   "source": [
    "<h2><center>==</center></h2>"
   ]
  },
  {
   "cell_type": "code",
   "execution_count": 2,
   "metadata": {},
   "outputs": [
    {
     "name": "stdout",
     "output_type": "stream",
     "text": [
      "a = b\n"
     ]
    }
   ],
   "source": [
    "a = 0\n",
    "b = 0\n",
    "\n",
    "if a == b:\n",
    "    print(\"a = b\")"
   ]
  },
  {
   "cell_type": "markdown",
   "metadata": {},
   "source": [
    "<h2><center>!=</center></h2>"
   ]
  },
  {
   "cell_type": "code",
   "execution_count": 3,
   "metadata": {},
   "outputs": [
    {
     "name": "stdout",
     "output_type": "stream",
     "text": [
      "a ist nicht gleich b\n"
     ]
    }
   ],
   "source": [
    "a = 0\n",
    "b = 1\n",
    "\n",
    "if a != b:\n",
    "    print(\"a ist nicht gleich b\")"
   ]
  },
  {
   "cell_type": "markdown",
   "metadata": {},
   "source": [
    "<h2><center><</center></h2>"
   ]
  },
  {
   "cell_type": "code",
   "execution_count": 5,
   "metadata": {},
   "outputs": [
    {
     "name": "stdout",
     "output_type": "stream",
     "text": [
      "a ist kleiner als b\n"
     ]
    }
   ],
   "source": [
    "a = 0\n",
    "b = 1\n",
    "\n",
    "#bei kleiner-gleich schreibt man <=\n",
    "if a < b:\n",
    "    print(\"a ist kleiner als b\")"
   ]
  },
  {
   "cell_type": "markdown",
   "metadata": {},
   "source": [
    "<h2><center>></center></h2>"
   ]
  },
  {
   "cell_type": "code",
   "execution_count": 6,
   "metadata": {},
   "outputs": [
    {
     "name": "stdout",
     "output_type": "stream",
     "text": [
      "a ist größer als b\n"
     ]
    }
   ],
   "source": [
    "a = 1\n",
    "b = 0\n",
    "\n",
    "if a > b:\n",
    "    print(\"a ist größer als b\")\n"
   ]
  },
  {
   "cell_type": "markdown",
   "metadata": {},
   "source": [
    "<h2><center>and</center></h2>"
   ]
  },
  {
   "cell_type": "code",
   "execution_count": 8,
   "metadata": {},
   "outputs": [
    {
     "name": "stdout",
     "output_type": "stream",
     "text": [
      "a ist kleiner als b und b ist kleiner als c\n"
     ]
    }
   ],
   "source": [
    "a = 1\n",
    "b = 2\n",
    "c = 3\n",
    "\n",
    "if a < b and b < c:\n",
    "    print(\"a ist kleiner als b und b ist kleiner als c\")"
   ]
  },
  {
   "cell_type": "markdown",
   "metadata": {},
   "source": [
    "<h2><center>or</center></h2>\n"
   ]
  },
  {
   "cell_type": "code",
   "execution_count": 11,
   "metadata": {},
   "outputs": [
    {
     "name": "stdout",
     "output_type": "stream",
     "text": [
      "Entweder ist a kleiner als b oder b ist größer als c\n"
     ]
    }
   ],
   "source": [
    "a = 1\n",
    "b = 2\n",
    "c = 3\n",
    "\n",
    "#wenn beides zutrifft ist die Bedingung ebenfalls erfüllt\n",
    "if a < b or b > c:\n",
    "    print(\"Entweder ist a kleiner als b oder b ist größer als c\")"
   ]
  },
  {
   "cell_type": "markdown",
   "metadata": {},
   "source": [
    "<img src=\"and-or_truthtable.png\">"
   ]
  },
  {
   "cell_type": "markdown",
   "metadata": {},
   "source": []
  },
  {
   "cell_type": "markdown",
   "metadata": {},
   "source": [
    "<h2><center>if/elif/else</center></h2>\n"
   ]
  },
  {
   "cell_type": "code",
   "execution_count": 14,
   "metadata": {},
   "outputs": [
    {
     "name": "stdout",
     "output_type": "stream",
     "text": [
      "a und b sind gleich groß\n"
     ]
    }
   ],
   "source": [
    "a = 1\n",
    "b = 1\n",
    "\n",
    "if a > b:\n",
    "    print(\"a ist größer als b\")\n",
    "elif a < b:\n",
    "    print(\"a ist kleiner als b\")\n",
    "else: \n",
    "    print(\"a und b sind gleich groß\")"
   ]
  },
  {
   "cell_type": "markdown",
   "metadata": {},
   "source": []
  }
 ],
 "metadata": {
  "interpreter": {
   "hash": "6cb38f4f7881f5f00ecddd36dcdd205b1cbc633f18fa96b04fff46bb8c205f99"
  },
  "kernelspec": {
   "display_name": "Python 3.9.7 64-bit ('dsEnv': conda)",
   "language": "python",
   "name": "python3"
  },
  "language_info": {
   "codemirror_mode": {
    "name": "ipython",
    "version": 3
   },
   "file_extension": ".py",
   "mimetype": "text/x-python",
   "name": "python",
   "nbconvert_exporter": "python",
   "pygments_lexer": "ipython3",
   "version": "3.9.7"
  },
  "orig_nbformat": 4
 },
 "nbformat": 4,
 "nbformat_minor": 2
}
