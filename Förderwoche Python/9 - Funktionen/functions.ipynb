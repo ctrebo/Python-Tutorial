{
 "cells": [
  {
   "cell_type": "markdown",
   "metadata": {},
   "source": [
    "<h1><center>Funktionen</center></h1>"
   ]
  },
  {
   "cell_type": "markdown",
   "metadata": {},
   "source": [
    "<h2><center>Funktionen ohne Argument</center></h2>"
   ]
  },
  {
   "cell_type": "code",
   "execution_count": 1,
   "metadata": {},
   "outputs": [
    {
     "name": "stdout",
     "output_type": "stream",
     "text": [
      "Hallo Welt\n"
     ]
    }
   ],
   "source": [
    "def hallo():\n",
    "    print(\"Hallo Welt\")\n",
    "\n",
    "hallo()"
   ]
  },
  {
   "cell_type": "markdown",
   "metadata": {},
   "source": [
    "<h2><center>Funktionen mit Argument</center></h2>"
   ]
  },
  {
   "cell_type": "code",
   "execution_count": 11,
   "metadata": {},
   "outputs": [
    {
     "name": "stdout",
     "output_type": "stream",
     "text": [
      "Klasse: 4ElA | Schule: TFO Bruneck\n"
     ]
    }
   ],
   "source": [
    "def education(klasse, schule):\n",
    "    print(\"Klasse: \" + klasse + \" |\" + \" Schule: \" + schule)\n",
    "\n",
    "education(\"4ElA\",\"TFO Bruneck\")"
   ]
  },
  {
   "cell_type": "markdown",
   "metadata": {},
   "source": [
    "<h2><center>Funktionen mit return-value</center></h2>"
   ]
  },
  {
   "cell_type": "code",
   "execution_count": 1,
   "metadata": {},
   "outputs": [
    {
     "name": "stdout",
     "output_type": "stream",
     "text": [
      "6\n"
     ]
    }
   ],
   "source": [
    "def return_value(val):\n",
    "    return val+2\n",
    "\n",
    "val = return_value(2)\n",
    "print(val)"
   ]
  }
 ],
 "metadata": {
  "interpreter": {
   "hash": "6cb38f4f7881f5f00ecddd36dcdd205b1cbc633f18fa96b04fff46bb8c205f99"
  },
  "kernelspec": {
   "display_name": "Python 3.9.7 64-bit ('dsEnv': conda)",
   "language": "python",
   "name": "python3"
  },
  "language_info": {
   "codemirror_mode": {
    "name": "ipython",
    "version": 3
   },
   "file_extension": ".py",
   "mimetype": "text/x-python",
   "name": "python",
   "nbconvert_exporter": "python",
   "pygments_lexer": "ipython3",
   "version": "3.9.5"
  },
  "orig_nbformat": 4
 },
 "nbformat": 4,
 "nbformat_minor": 2
}
